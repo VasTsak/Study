{
 "cells": [
  {
   "cell_type": "markdown",
   "metadata": {},
   "source": [
    "![SVM_better_line.png](pics/SVM_better_line.png)\n",
    "\n",
    "### QUIZ QUESTION\n",
    "Which one is a better line?\n",
    "\n",
    "1. The one in the left (yellow) -  This one\n",
    "\n",
    "1. The one in the right (Green)\n",
    "\n",
    "![svm_cutting.png](pics/svm_cutting.png)\n",
    "\n",
    "\n",
    "![SVM_max_margin.png](pics/SVM_max_margin.png)\n",
    "\n",
    "## Perceptron error function\n",
    "\n",
    "\n",
    "![SVM_error.png](pics/SVM_error.png)\n",
    "\n",
    "![svm_error_function.png](pics/svm_error_function.png)\n",
    "\n",
    "![svm_error_function_2.png](pics/svm_error_function_2.png)\n",
    "\n",
    "## SVM error function\n",
    "\n",
    "![svm_cl_error.png](pics/svm_cl_error.png)\n",
    "\n",
    "![svm_error_2.png](pics/svm_error_2.png)\n",
    "![svm_error_3.png](pics/svm_error_3.png)"
   ]
  }
 ],
 "metadata": {
  "kernelspec": {
   "display_name": "Python 3",
   "language": "python",
   "name": "python3"
  },
  "language_info": {
   "codemirror_mode": {
    "name": "ipython",
    "version": 3
   },
   "file_extension": ".py",
   "mimetype": "text/x-python",
   "name": "python",
   "nbconvert_exporter": "python",
   "pygments_lexer": "ipython3",
   "version": "3.7.6"
  }
 },
 "nbformat": 4,
 "nbformat_minor": 4
}
