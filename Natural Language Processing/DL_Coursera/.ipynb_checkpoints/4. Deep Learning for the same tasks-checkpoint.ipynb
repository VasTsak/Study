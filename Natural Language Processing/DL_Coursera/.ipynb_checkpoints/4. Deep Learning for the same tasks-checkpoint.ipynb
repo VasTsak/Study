{
 "cells": [
  {
   "cell_type": "markdown",
   "metadata": {},
   "source": [
    "# 1. Neural Language Models\n",
    "\n",
    "![nlm_1.png](pics/nlm_1.png)\n",
    "![nlm_1.png](pics/nlm_2.png)\n",
    "![nlm_1.png](pics/nlm_3.png)\n",
    "![nlm_1.png](pics/nlm_4.png)\n",
    "![nlm_1.png](pics/nlm_5.png)\n",
    "![nlm_1.png](pics/nlm_6.png)\n",
    "![nlm_1.png](pics/nlm_7.png)\n",
    "\n",
    "# 2. Whether you need to predict a next word or a label - LSTM is here to help!\n",
    "\n",
    "![lstm_1.png](pics/lstm_1.png)\n",
    "![lstm_1.png](pics/lstm_2.png)\n",
    "![lstm_1.png](pics/lstm_3.png)\n",
    "![lstm_1.png](pics/lstm_4.png)\n",
    "![lstm_1.png](pics/lstm_5.png)\n",
    "\n",
    "Beam search generates a number of sequences and compares the total estimate and keeps the best sequence. This is a better approach because it is not a greedy search. \n",
    "\n",
    "![lstm_1.png](pics/lstm_6.png)\n",
    "\n",
    "The good thing about LSTM is that you don't have to predict the next word but you can go down to character level. \n",
    "\n",
    "![lstm_1.png](pics/lstm_7.png)\n",
    "![lstm_1.png](pics/lstm_8.png)\n",
    "![lstm_1.png](pics/lstm_9.png)\n",
    "![lstm_1.png](pics/lstm_10.png)\n",
    "\n"
   ]
  },
  {
   "cell_type": "code",
   "execution_count": null,
   "metadata": {},
   "outputs": [],
   "source": []
  }
 ],
 "metadata": {
  "kernelspec": {
   "display_name": "Python 3",
   "language": "python",
   "name": "python3"
  },
  "language_info": {
   "codemirror_mode": {
    "name": "ipython",
    "version": 3
   },
   "file_extension": ".py",
   "mimetype": "text/x-python",
   "name": "python",
   "nbconvert_exporter": "python",
   "pygments_lexer": "ipython3",
   "version": "3.7.6"
  }
 },
 "nbformat": 4,
 "nbformat_minor": 4
}
