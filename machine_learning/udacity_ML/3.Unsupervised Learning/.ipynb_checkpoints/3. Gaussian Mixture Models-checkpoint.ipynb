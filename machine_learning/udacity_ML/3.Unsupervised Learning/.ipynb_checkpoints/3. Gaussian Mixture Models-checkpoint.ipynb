{
 "cells": [
  {
   "cell_type": "markdown",
   "metadata": {},
   "source": [
    "It is a soft clustering algorithm, which means that every point every sample in our dataset will belong to every cluster that we have, but would have different levels of membership in each cluster \n",
    "\n",
    "![g_m_1.png](pics/g_m_1.png)\n",
    "\n",
    "![g_m_1.png](pics/g_m_2.png)\n",
    "\n",
    "Gaussian mixture clustering assumes that each cluster follows a certain statistical distribution. It uses a lof of what we know from probabilities and statistics to come up with these clusters. \n",
    "\n",
    "![g_m_1.png](pics/g_m_3.png)\n",
    "\n",
    "## Multivariate Gaussian Distribution\n",
    "\n",
    "![g_m_1.png](pics/g_m_3.png)\n"
   ]
  },
  {
   "cell_type": "markdown",
   "metadata": {},
   "source": [
    "### Step 1 Initialization \n",
    "\n",
    "![g_m_5.png](pics/g_m_5.png)\n",
    "\n",
    "We could use k-means to get the mean to initialize the clusters. \n",
    "\n",
    "### Step 2 Soft-cluster the data points - \"Expectation\" step\n",
    "\n",
    "![g_m_5.png](pics/g_m_5.png)\n",
    "\n",
    "The numerator of the equation is the density function of the notmal distribution of the cluster A. \n",
    "\n",
    "![g_m_5.png](pics/g_m_6.png)\n",
    "\n",
    "We will not see how $Z_{1A}$ is calculated because it too complex and defeats the purspose of the explanation. \n",
    "\n",
    "### Step - 3\n",
    "\n",
    "The third step of the expectation maximization algorithm for GMM clustering is to take whatever what was produced in step two, which is the memberships of all the points to all the clusters, the two clusters that we have, and use those to come up with new parameters for the Gaussians. \n",
    "\n",
    "![g_m_5.png](pics/g_m_7.png)\n",
    "\n",
    "![g_m_5.png](pics/g_m_8.png)\n",
    "\n",
    "### Step - 4\n",
    "\n",
    "The fourth step is to evaluate the log-likelihood. And the log-likelihood sums for all clusters here.  Basically, what this says is that the higher this number is, the more sure we are that the mixer model that we've generated is responsible for creating the data or fits the dataset that we have. And so, the purpose here is to maximize this value, this term. We do that by choosing the parameters of the Gaussians, including the mixing coefficient, the mean, and the variance of each Gaussian. The better parameters we pick, the higher the value of this entire term will be. And then we do that until the algorithm converges, until it reaches a maximum or it starts to increase by a tiny fraction each step. And so, that's where we can stop the algorithm.\n",
    "\n",
    "![g_m_5.png](pics/g_m_9.png)\n",
    "\n",
    "### Quiz\n",
    "\n",
    "![g_m_10.png](pics/g_m_10.png)\n",
    "\n",
    "\n"
   ]
  },
  {
   "cell_type": "code",
   "execution_count": 1,
   "metadata": {},
   "outputs": [
    {
     "data": {
      "text/plain": [
       "array([2, 1, 1, 1, 2, 0, 1, 2, 1, 1])"
      ]
     },
     "execution_count": 1,
     "metadata": {},
     "output_type": "execute_result"
    }
   ],
   "source": [
    "from sklearn import mixture, datasets\n",
    "\n",
    "X = datasets.load_iris().data[:10]\n",
    "\n",
    "gmm = mixture.GaussianMixture(n_components=3)\n",
    "gmm.fit(X)\n",
    "clustering = gmm.predict(X)\n",
    "clustering"
   ]
  },
  {
   "cell_type": "markdown",
   "metadata": {},
   "source": [
    "## Pros and Cons\n",
    "\n",
    "![g_m_10.png](pics/g_m_11.png)\n",
    "\n",
    "## Applications\n",
    "\n",
    "\n",
    "![g_m_10.png](pics/g_m_12.png)\n",
    "![g_m_10.png](pics/g_m_13.png)\n",
    "\n",
    "Use a stream of the video with traffic and remove the cars from the frame. \n",
    "![g_m_10.png](pics/g_m_14.png)\n",
    "\n",
    "It can be also used to find background and remove it so that it only tracks the movement (let's say safety camera)\n",
    "\n",
    "![g_m_10.png](pics/g_m_15.png)\n",
    "\n",
    "\n",
    "![g_m_10.png](pics/g_m_16.png)\n",
    "\n",
    "# Cluster Validation\n",
    "\n"
   ]
  },
  {
   "cell_type": "code",
   "execution_count": null,
   "metadata": {},
   "outputs": [],
   "source": []
  }
 ],
 "metadata": {
  "kernelspec": {
   "display_name": "Python 3",
   "language": "python",
   "name": "python3"
  },
  "language_info": {
   "codemirror_mode": {
    "name": "ipython",
    "version": 3
   },
   "file_extension": ".py",
   "mimetype": "text/x-python",
   "name": "python",
   "nbconvert_exporter": "python",
   "pygments_lexer": "ipython3",
   "version": "3.7.6"
  }
 },
 "nbformat": 4,
 "nbformat_minor": 4
}
