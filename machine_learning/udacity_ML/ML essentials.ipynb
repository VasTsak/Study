{
 "cells": [
  {
   "cell_type": "markdown",
   "metadata": {},
   "source": [
    "Throughout this first term, you are going to get very comfortable with a number of machine learning techniques. In this lesson, you gained a glimpse at the perspectives that have collided to create the three tiers of machine learning regularly recognized today:\n",
    "\n",
    "1. Supervised Machine Learning\n",
    "\n",
    "2. Unsupervised Machine Learning\n",
    "\n",
    "3. Reinforcement Machine Learning\n",
    "\n",
    "# Supervised Machine Learning\n",
    "Thus far supervised machine learning has gained the most traction in use cases across business applications. Studying labeled data, these techniques can extend patterns to unlabeled data.\n",
    "\n",
    "![pics/sl.png](pics/sl.png)\n",
    "\n",
    "Supervised learning is used for many business applications from spam filters to movie recommendations. We looked at the two broad categories of supervised machine learning:\n",
    "\n",
    "* Classification\n",
    "* Regression\n",
    "Deep learning can be used within supervised machine learning to create techniques that are better at image recognition or identifying when a movie was created based on the video footage.\n",
    "\n",
    "# Unsupervised Machine Learning\n",
    "Unsupervised techniques are the second most used in business applications. By learning patterns even when data do not have labels, these techniques can group items together that are likely to be similar.\n",
    "\n",
    "![pics/ul.png](pics/ul.png)\n",
    "\n",
    "Unsupervised techniques are used for business applications from figuring out market segments to again building recommendation engines. There are a lot of ways you can build recommendation engines! But more of that will be shown in term 2.\n",
    "\n",
    "These two techniques (supervised and unsupervised) will be the main techniques focused on in this term. You will also use deep learning as a supervised learning technique for image recognition.\n",
    "\n",
    "# Reinforcement Learning\n",
    "The final type of machine learning, reinforcement learning, has recently been gaining a lot of traction, but still is limited in its use cases related to many business use cases. There are a number of obstacles in training these algorithms, and the approaches are not as streamlined as the other approaches you will see in this term.\n",
    "\n",
    "With that being said, recent publicity in reinforcement learning has come from AlphaGo and autonomous vehicles. Additionally, reinforcement learning is often used in gaming agents like you see in Open AI Gym.\n",
    "\n",
    "This program will not have any applications of reinforcement learning, because their use cases are not often used within common data science applications.\n"
   ]
  }
 ],
 "metadata": {
  "kernelspec": {
   "display_name": "Python 3",
   "language": "python",
   "name": "python3"
  },
  "language_info": {
   "codemirror_mode": {
    "name": "ipython",
    "version": 3
   },
   "file_extension": ".py",
   "mimetype": "text/x-python",
   "name": "python",
   "nbconvert_exporter": "python",
   "pygments_lexer": "ipython3",
   "version": "3.7.6"
  }
 },
 "nbformat": 4,
 "nbformat_minor": 4
}
