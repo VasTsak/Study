{
 "cells": [
  {
   "cell_type": "markdown",
   "metadata": {},
   "source": [
    "![eda_1.png](pics/eda_1.png)\n",
    "\n",
    "One way to explore the data is through visualizations \n",
    "\n",
    "![eda_2.png](pics/eda_2.png)\n",
    "![eda_2.png](pics/eda_3.png)\n",
    "\n",
    "# Building intuition about the data\n",
    "\n",
    "## Getting domain knowledge\n",
    "\n",
    "We should probably be searching for the topic, Googling within Wikipedia, and making sure we understand the data. \n",
    "\n",
    "## Check if the data is intuitive\n",
    "\n",
    "![eda_2.png](pics/eda_4.png)\n",
    "![eda_2.png](pics/eda_5.png)\n",
    "\n",
    "That is, the errors were made not at random, but there is some kind of logic why there is an error in that particular place. It means that these mistakes can be used to get a better score.\n",
    "\n",
    "## Understand how the data was generated\n",
    "\n",
    "It is crucial to understand the generation process to set up a proper validation scheme. \n",
    "\n",
    "![eda_2.png](pics/eda_6.png)\n",
    "![eda_2.png](pics/eda_7.png)\n"
   ]
  },
  {
   "cell_type": "markdown",
   "metadata": {},
   "source": [
    "# Exploring anonymized data\n",
    "\n",
    "## What is anonymized data?\n",
    "\n",
    "![eda_2.png](pics/eda_8.png)\n",
    "![eda_2.png](pics/eda_9.png)\n",
    "\n",
    "# Visualizations\n",
    "\n",
    "\n",
    "![eda_2.png](pics/eda_10.png)\n",
    "![eda_2.png](pics/eda_11.png)\n",
    "![eda_2.png](pics/eda_12.png)\n",
    "![eda_2.png](pics/eda_13.png)\n",
    "![eda_2.png](pics/eda_14.png)\n",
    "![eda_2.png](pics/eda_15.png)\n",
    "![eda_2.png](pics/eda_16.png)\n",
    "![eda_2.png](pics/eda_17.png)\n",
    "![eda_2.png](pics/eda_18.png)\n",
    "![eda_2.png](pics/eda_19.png)\n",
    "\n",
    "We can also compute some kind of distance between the columns of our feature table and store them into a matrix of size number of features by a number of features. For example, we can compute correlation between the counts. It's the most common type of matrices people build, correlation metric. But we can compute other things than correlation. For example, how many times one feature is larger than the other? I mean, how many rows are there such that the value of the first feature is larger than the value of the second one? \n",
    "![eda_2.png](pics/eda_20.png)\n",
    "\n",
    " This plot can look quite random if the columns are shuffled. So, what if we sorted the columns based on this statistic? \n",
    " \n",
    "![eda_2.png](pics/eda_21.png)\n"
   ]
  },
  {
   "cell_type": "markdown",
   "metadata": {},
   "source": [
    "## Dataset cleaning and other things to check\n",
    "\n",
    "![eda_2.png](pics/eda_22.png)\n",
    "![eda_2.png](pics/eda_23.png)\n",
    "![eda_2.png](pics/eda_24.png)\n",
    "Duplicated features can be identified with categorical values with different levels. \n",
    "\n",
    "Thte trick to do that is correct label encoding. \n",
    "\n",
    "![eda_2.png](pics/eda_25.png)\n",
    "![eda_2.png](pics/eda_26.png)\n",
    "\n",
    "Finally, it is very useful to check that the data set is shuffled, because if it is not then, there is a high chance to find data leakage.\n",
    "![eda_2.png](pics/eda_27.png)\n",
    "\n",
    "What we can do is we can plug a feature or target vector versus row index. We can optionally smooth the values using running average. On this slide rolling target value from pairs competition is plotted while mean target value is shown with dashed blue line. If the data was shuffled properly we would expect some kind of oscillation of the target values around the mean target value. But in this case, it looks like the end of the train set is much different to the start, and we have some patterns.\n",
    "![eda_2.png](pics/eda_28.png)\n"
   ]
  }
 ],
 "metadata": {
  "kernelspec": {
   "display_name": "Python 3",
   "language": "python",
   "name": "python3"
  },
  "language_info": {
   "codemirror_mode": {
    "name": "ipython",
    "version": 3
   },
   "file_extension": ".py",
   "mimetype": "text/x-python",
   "name": "python",
   "nbconvert_exporter": "python",
   "pygments_lexer": "ipython3",
   "version": "3.7.6"
  }
 },
 "nbformat": 4,
 "nbformat_minor": 4
}
